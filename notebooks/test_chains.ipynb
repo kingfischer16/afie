{
 "cells": [
  {
   "cell_type": "code",
   "execution_count": 1,
   "id": "44276bd0",
   "metadata": {},
   "outputs": [],
   "source": [
    "# Imports\n",
    "import os\n",
    "import sys\n",
    "\n",
    "from langchain_core.output_parsers import JsonOutputParser\n",
    "\n",
    "from afie.core.prompts import update_feature_description_prompt\n",
    "from afie.core.models import chat_model\n",
    "from afie.managers.ProjectLedgerManager import create_empty_ledger"
   ]
  },
  {
   "cell_type": "code",
   "execution_count": 8,
   "id": "9b55cbf2",
   "metadata": {},
   "outputs": [
    {
     "name": "stdout",
     "output_type": "stream",
     "text": [
      "Implements a player dash ability via a 'perform_dash' method in the PlayerController, using the Ursina engine's animate_position function for smooth movement. This ability consumes 15 stamina and is managed by a 2-second global cooldown timer located in the UIManager. This provides a core mobility mechanic for the player.\n",
      "['dash', 'sprint', 'player ability', 'movement', 'stamina', 'cooldown', 'PlayerController', 'animate_position', 'UIManager']\n"
     ]
    }
   ],
   "source": [
    "feature_input = {  \n",
    "    \"feature_name\": \"Player Dash Ability\",\n",
    "    \"request_content\": \"I want the player to be able to dash. It should be a quick burst of speed in the direction they are looking and use up some stamina. It should have a 2-second cooldown.\",\n",
    "    \"fip_content\": \"\",\n",
    "    \"adr_content\": \"\" \n",
    "}\n",
    "\n",
    "chain = update_feature_description_prompt | chat_model | JsonOutputParser()\n",
    "\n",
    "response = chain.invoke(feature_input)\n",
    "\n",
    "print(response['description'])\n",
    "print(response['keywords'])"
   ]
  },
  {
   "cell_type": "code",
   "execution_count": 3,
   "id": "c15f1c38",
   "metadata": {},
   "outputs": [
    {
     "ename": "FileNotFoundError",
     "evalue": "Expected directory does not exist: C:\\dev\\tests\\afie_tests\\.afie",
     "output_type": "error",
     "traceback": [
      "\u001b[31m---------------------------------------------------------------------------\u001b[39m",
      "\u001b[31mFileNotFoundError\u001b[39m                         Traceback (most recent call last)",
      "\u001b[36mCell\u001b[39m\u001b[36m \u001b[39m\u001b[32mIn[3]\u001b[39m\u001b[32m, line 1\u001b[39m\n\u001b[32m----> \u001b[39m\u001b[32m1\u001b[39m \u001b[43mcreate_empty_ledger\u001b[49m\u001b[43m(\u001b[49m\u001b[43mgame_project_folder\u001b[49m\u001b[43m=\u001b[49m\u001b[33;43mr\u001b[39;49m\u001b[33;43m\"\u001b[39;49m\u001b[33;43mC:\u001b[39;49m\u001b[33;43m\\\u001b[39;49m\u001b[33;43mdev\u001b[39;49m\u001b[33;43m\\\u001b[39;49m\u001b[33;43mtests\u001b[39;49m\u001b[33;43m\\\u001b[39;49m\u001b[33;43mafie_tests\u001b[39;49m\u001b[33;43m\"\u001b[39;49m\u001b[43m)\u001b[49m\n",
      "\u001b[36mFile \u001b[39m\u001b[32md:\\Dropbox\\Business\\GenAiProjects\\AFIE\\afie\\managers\\ProjectLedgerManager.py:22\u001b[39m, in \u001b[36mcreate_empty_ledger\u001b[39m\u001b[34m(game_project_folder)\u001b[39m\n\u001b[32m     20\u001b[39m afie_folder = os.path.join(game_project_folder, \u001b[33m\"\u001b[39m\u001b[33m.afie\u001b[39m\u001b[33m\"\u001b[39m)\n\u001b[32m     21\u001b[39m \u001b[38;5;28;01mif\u001b[39;00m \u001b[38;5;129;01mnot\u001b[39;00m os.path.isdir(afie_folder):\n\u001b[32m---> \u001b[39m\u001b[32m22\u001b[39m     \u001b[38;5;28;01mraise\u001b[39;00m \u001b[38;5;167;01mFileNotFoundError\u001b[39;00m(\u001b[33mf\u001b[39m\u001b[33m\"\u001b[39m\u001b[33mExpected directory does not exist: \u001b[39m\u001b[38;5;132;01m{\u001b[39;00mafie_folder\u001b[38;5;132;01m}\u001b[39;00m\u001b[33m\"\u001b[39m)\n\u001b[32m     24\u001b[39m ledger_folder = os.path.join(afie_folder, \u001b[33m\"\u001b[39m\u001b[33mledger\u001b[39m\u001b[33m\"\u001b[39m)\n\u001b[32m     25\u001b[39m os.makedirs(ledger_folder, exist_ok=\u001b[38;5;28;01mTrue\u001b[39;00m)\n",
      "\u001b[31mFileNotFoundError\u001b[39m: Expected directory does not exist: C:\\dev\\tests\\afie_tests\\.afie"
     ]
    }
   ],
   "source": [
    "create_empty_ledger(game_project_folder=r\"C:\\dev\\tests\\afie_tests\")"
   ]
  },
  {
   "cell_type": "code",
   "execution_count": null,
   "id": "86730dc7",
   "metadata": {},
   "outputs": [],
   "source": []
  },
  {
   "cell_type": "code",
   "execution_count": null,
   "id": "afb329a4",
   "metadata": {},
   "outputs": [],
   "source": []
  },
  {
   "cell_type": "code",
   "execution_count": null,
   "id": "f33e82cf",
   "metadata": {},
   "outputs": [],
   "source": []
  }
 ],
 "metadata": {
  "kernelspec": {
   "display_name": "gen-ai",
   "language": "python",
   "name": "gen-ai"
  },
  "language_info": {
   "codemirror_mode": {
    "name": "ipython",
    "version": 3
   },
   "file_extension": ".py",
   "mimetype": "text/x-python",
   "name": "python",
   "nbconvert_exporter": "python",
   "pygments_lexer": "ipython3",
   "version": "3.12.10"
  }
 },
 "nbformat": 4,
 "nbformat_minor": 5
}
