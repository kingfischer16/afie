{
 "cells": [
  {
   "cell_type": "code",
   "execution_count": null,
   "id": "44276bd0",
   "metadata": {},
   "outputs": [],
   "source": [
    "# Imports\n",
    "import os\n",
    "import sys\n",
    "\n",
    "from langchain_core.output_parsers import JsonOutputParser\n",
    "\n",
    "from antigine.core.prompts import update_feature_description_prompt\n",
    "from antigine.core.models import chat_model\n",
    "from antigine.managers.ProjectLedgerManager import create_empty_ledger"
   ]
  },
  {
   "cell_type": "code",
   "execution_count": null,
   "id": "9b55cbf2",
   "metadata": {},
   "outputs": [],
   "source": [
    "feature_input = {  \n",
    "    \"feature_name\": \"Player Dash Ability\",\n",
    "    \"request_content\": \"I want the player to be able to dash. It should be a quick burst of speed in the direction they are looking and use up some stamina. It should have a 2-second cooldown.\",\n",
    "    \"fip_content\": \"\",\n",
    "    \"adr_content\": \"\" \n",
    "}\n",
    "\n",
    "chain = update_feature_description_prompt | chat_model | JsonOutputParser()\n",
    "\n",
    "response = chain.invoke(feature_input)\n",
    "\n",
    "print(response['description'])\n",
    "print(response['keywords'])"
   ]
  },
  {
   "cell_type": "code",
   "execution_count": null,
   "id": "c15f1c38",
   "metadata": {},
   "outputs": [],
   "source": [
    "create_empty_ledger(game_project_folder=r\"C:\\dev\\tests\\antigine_tests\")"
   ]
  },
  {
   "cell_type": "code",
   "execution_count": null,
   "id": "86730dc7",
   "metadata": {},
   "outputs": [],
   "source": []
  },
  {
   "cell_type": "code",
   "execution_count": null,
   "id": "afb329a4",
   "metadata": {},
   "outputs": [],
   "source": []
  },
  {
   "cell_type": "code",
   "execution_count": null,
   "id": "f33e82cf",
   "metadata": {},
   "outputs": [],
   "source": []
  }
 ],
 "metadata": {
  "kernelspec": {
   "display_name": "gen-ai",
   "language": "python",
   "name": "gen-ai"
  },
  "language_info": {
   "codemirror_mode": {
    "name": "ipython",
    "version": 3
   },
   "file_extension": ".py",
   "mimetype": "text/x-python",
   "name": "python",
   "nbconvert_exporter": "python",
   "pygments_lexer": "ipython3",
   "version": "3.12.10"
  }
 },
 "nbformat": 4,
 "nbformat_minor": 5
}
